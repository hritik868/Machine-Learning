{
 "cells": [
  {
   "cell_type": "code",
   "execution_count": 8,
   "metadata": {},
   "outputs": [],
   "source": [
    "import pandas as pd\n",
    "from sklearn.metrics import roc_curve, auc"
   ]
  },
  {
   "cell_type": "code",
   "execution_count": 9,
   "metadata": {},
   "outputs": [],
   "source": [
    "data = {\n",
    "    'Instance': [1, 2, 3, 4, 5, 6, 7, 8, 9, 10, 11, 12],\n",
    "    'Predicted Probability': [0.98, 0.91, 0.85, 0.80, 0.78, 0.75, 0.65, 0.60, 0.55, 0.52, 0.45, 0.30],\n",
    "    'Actual Label': [1, 0, 1, 0, 1, 0, 1, 0, 1, 0, 1, 0]\n",
    "}\n",
    "\n",
    "df = pd.DataFrame(data)\n",
    "\n",
    "csv_file_path = '/workspaces/Machine-Learning/roc_data.csv'\n",
    "df.to_csv(csv_file_path, index=False)"
   ]
  },
  {
   "cell_type": "code",
   "execution_count": 10,
   "metadata": {},
   "outputs": [],
   "source": [
    "y_true = df['Actual Label']\n",
    "y_scores = df['Predicted Probability']"
   ]
  },
  {
   "cell_type": "code",
   "execution_count": 11,
   "metadata": {},
   "outputs": [],
   "source": [
    "fpr, tpr, thresholds = roc_curve(y_true, y_scores)\n",
    "roc_auc = auc(fpr, tpr)"
   ]
  },
  {
   "cell_type": "code",
   "execution_count": 12,
   "metadata": {},
   "outputs": [
    {
     "data": {
      "text/plain": [
       "([(np.float64(0.0), np.float64(0.0), np.float64(inf)),\n",
       "  (np.float64(0.0), np.float64(0.16666666666666666), np.float64(0.98)),\n",
       "  (np.float64(0.16666666666666666),\n",
       "   np.float64(0.16666666666666666),\n",
       "   np.float64(0.91)),\n",
       "  (np.float64(0.16666666666666666),\n",
       "   np.float64(0.3333333333333333),\n",
       "   np.float64(0.85)),\n",
       "  (np.float64(0.3333333333333333),\n",
       "   np.float64(0.3333333333333333),\n",
       "   np.float64(0.8)),\n",
       "  (np.float64(0.3333333333333333), np.float64(0.5), np.float64(0.78)),\n",
       "  (np.float64(0.5), np.float64(0.5), np.float64(0.75)),\n",
       "  (np.float64(0.5), np.float64(0.6666666666666666), np.float64(0.65)),\n",
       "  (np.float64(0.6666666666666666),\n",
       "   np.float64(0.6666666666666666),\n",
       "   np.float64(0.6)),\n",
       "  (np.float64(0.6666666666666666),\n",
       "   np.float64(0.8333333333333334),\n",
       "   np.float64(0.55)),\n",
       "  (np.float64(0.8333333333333334),\n",
       "   np.float64(0.8333333333333334),\n",
       "   np.float64(0.52)),\n",
       "  (np.float64(0.8333333333333334), np.float64(1.0), np.float64(0.45)),\n",
       "  (np.float64(1.0), np.float64(1.0), np.float64(0.3))],\n",
       " np.float64(0.5833333333333333))"
      ]
     },
     "execution_count": 12,
     "metadata": {},
     "output_type": "execute_result"
    }
   ],
   "source": [
    "roc_points = list(zip(fpr, tpr, thresholds))\n",
    "roc_points, roc_auc"
   ]
  },
  {
   "cell_type": "code",
   "execution_count": 13,
   "metadata": {},
   "outputs": [
    {
     "name": "stdout",
     "output_type": "stream",
     "text": [
      "FPR: 0.000, TPR: 0.000, Threshold: inf\n",
      "FPR: 0.000, TPR: 0.167, Threshold: 0.980\n",
      "FPR: 0.167, TPR: 0.167, Threshold: 0.910\n",
      "FPR: 1.000, TPR: 1.000, Threshold: 0.300\n"
     ]
    }
   ],
   "source": [
    "import numpy as np\n",
    "\n",
    "# Example of your raw data (np.float64)\n",
    "roc_points = [(np.float64(0.0), np.float64(0.0), np.float64(np.inf)),\n",
    "              (np.float64(0.0), np.float64(0.16666666666666666), np.float64(0.98)),\n",
    "              (np.float64(0.16666666666666666), np.float64(0.16666666666666666), np.float64(0.91)),\n",
    "              (np.float64(1.0), np.float64(1.0), np.float64(0.30))]\n",
    "\n",
    "# Convert to Python float and print the result in a more readable way\n",
    "cleaned_roc_points = [(float(fpr), float(tpr), float(thresh)) for fpr, tpr, thresh in roc_points]\n",
    "\n",
    "# Display the cleaned points with formatting\n",
    "for fpr, tpr, thresh in cleaned_roc_points:\n",
    "    print(f\"FPR: {fpr:.3f}, TPR: {tpr:.3f}, Threshold: {thresh:.3f}\")\n"
   ]
  }
 ],
 "metadata": {
  "language_info": {
   "name": "python"
  }
 },
 "nbformat": 4,
 "nbformat_minor": 2
}
